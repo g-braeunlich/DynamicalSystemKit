{
 "cells": [
  {
   "cell_type": "markdown",
   "metadata": {},
   "source": [
    "# Getting started\n",
    "\n",
    "Assume the following system:\n",
    "\n",
    "![setting](./figures/setting.svg?sanitize=true)\n",
    "\n",
    "In order to simulate this system, we will define the single components\n",
    "as python classes, combine them to a model, run a simulation\n",
    "of the model.\n",
    "\n",
    "The key objects to model a system are so called quantities.\n",
    "It will be distinguished between the following:\n",
    "\n",
    "- `StateQuantity`: For example the temperature in the\n",
    "  tank. The evolution of state quantities are described by an ODE.\n",
    "- `ComputedQuantity`: A variable whose value is determined by other\n",
    "  quantities (the outgoing temperature is a function of the incoming\n",
    "  temperatures and the position of the valve). Computed quantities are\n",
    "  derived of present values of other arbitrary quantities. They are\n",
    "  not determined by an ODE (directly).\n",
    "- `ManipulatedVariable`: A variable which is set in periodic\n",
    "  time intervals by a controlling process. *Example*: the position of\n",
    "  the valve, the flow rate of the pump.\n",
    "- `ExternalQuantity`: Quantities whose values are passed to the\n",
    "  simulation from a data file or an other source. For example an\n",
    "  ambient temperature ($T_2$ from the example above will be defined\n",
    "  as `ExternalQuantity`).\n",
    "- `ConstantQuantity`: A quantity with a constant value ($T_1$ will be defined\n",
    "  as `ConstantQuantity`).\n",
    "  \n",
    "## Step 1: Python classes for components\n",
    "We are going to need the following."
   ]
  },
  {
   "cell_type": "code",
   "execution_count": 1,
   "metadata": {},
   "outputs": [],
   "source": [
    "from DynamicalSystemKit.model import Model, Element, StateFunction, ManipulatedVariable, \\\n",
    "    ExternalQuantity, ComputedQuantity, \\\n",
    "    Derivative, DerivativeInline, ConstantQuantity, d_, t_sampler"
   ]
  },
  {
   "cell_type": "markdown",
   "metadata": {},
   "source": [
    "**Pump**"
   ]
  },
  {
   "cell_type": "code",
   "execution_count": 2,
   "metadata": {},
   "outputs": [],
   "source": [
    "class Pump(Element):\n",
    "    def __init__(self):\n",
    "        self.Phi = ManipulatedVariable(1)"
   ]
  },
  {
   "cell_type": "markdown",
   "metadata": {},
   "source": [
    "**Mixing valve**\n",
    "As the mixing valve has to know the incoming temperatures and the\n",
    "outgoing flow, it takes the corresponding quantity objects as arguments.\n",
    "On the other hand the quantity for the position is declared as a class\n",
    "variable.\n",
    "Note that the quantities `T_1` and `T_2` passed to\n",
    "`__init__` together with the instance attribute\n",
    "`position` will be used as annotations in\n",
    "the definition of the computed quantity. This way, when building the\n",
    "ODE, the function `T_out` will receive the correct arguments.\n",
    "To declare the dimension of the return value a return annotation\n",
    "`-> 1` is specified.\n",
    "Also note, that the decorated function `T_out` is declared inside\n",
    "`__init__` instead as a method in the class body.\n",
    "The decorator turns `T_out` into a\n",
    "`ComputedQuantity` object. Because it needs\n",
    "access to the instance attributes `T_1`, `T_2` and\n",
    "`Phi_out`, it cannot be declared as a class attribute."
   ]
  },
  {
   "cell_type": "code",
   "execution_count": 3,
   "metadata": {},
   "outputs": [],
   "source": [
    "class MixingValve(Element):\n",
    "    def __init__(self, *args, T_1, T_2, **kwargs):\n",
    "        super().__init__(*args, **kwargs)\n",
    "        \n",
    "        self.position = ManipulatedVariable(1)\n",
    "\n",
    "        @ComputedQuantity\n",
    "        def T_out(T1: T_1, T2: T_2, position: self.position) -> 1:\n",
    "            return T1 * position + T2 * (1. - position)\n",
    "        self.T_out = T_out"
   ]
  },
  {
   "cell_type": "markdown",
   "metadata": {},
   "source": [
    "*Attention*: At the time of writing, a `ComputedQuantity`\n",
    " will only work if the underlying function is vectorized. The reason\n",
    " behind this is that the function will be used during solving the ODE\n",
    " and again after the ODE solver is finished, i.e. if the values of the\n",
    " state functions are known. \n",
    " During solving the ODE, the function is evaluated at single time values, but at\n",
    " the final call, it is evaluated at the whole time range of the\n",
    " simulation.\n",
    " At this stage, the simulation will fail, if the computation function\n",
    " is not vectorized.\n",
    "\n",
    "**Tank**\n",
    "The state of the tank is determined by its temperature $T$. The change\n",
    "of $T$ is given by $\\dot{T} = \\Phi / V (T_\\mathrm{in} -T)$, where $V$\n",
    "is the volume of the tank. This ODE is modelled as a\n",
    "`Derivative` object which is defined by annotated function of the form\n",
    "of `dT` in the code below. All arguments must be given the origin\n",
    "quantity as annotation as for computed quantities. The return\n",
    "annotation indicates for which quantity the derivative is computed. To\n",
    "emphasize, that the return value does not correspond to $T$ but to\n",
    "$\\dot{T}$, the `Quantity` object has to be wrapped by `d_`.\n"
   ]
  },
  {
   "cell_type": "code",
   "execution_count": 4,
   "metadata": {},
   "outputs": [],
   "source": [
    "class Tank(Element):\n",
    "    def __init__(self, *args, T_in, Phi, V, **kwargs):\n",
    "        super().__init__(*args, **kwargs)\n",
    "        self.T = StateFunction(1)\n",
    "\n",
    "        @Derivative\n",
    "        def dT(T: self.T, Phi_: Phi, T_i: T_in) -> d_(self.T):\n",
    "            return Phi_ / V * (T_i - T)\n",
    "        self.dT = dT"
   ]
  },
  {
   "cell_type": "markdown",
   "metadata": {},
   "source": [
    "## Step 2: Compose the components to a model\n",
    "\n",
    "The composing is done by create an instance of the `Model` class. Its\n",
    "constructor accepts an arbitrary number of named arguments.\n",
    "Top level `Quantity` objects have to be passed to the model before they can be\n",
    "referenced by other `Element` objects. For this purpose, it is possible\n",
    "to add additional `Element` objects to the model with the method `add`."
   ]
  },
  {
   "cell_type": "code",
   "execution_count": 5,
   "metadata": {},
   "outputs": [],
   "source": [
    "class ExampleModel(Model):\n",
    "    T_1 = ConstantQuantity(10.)\n",
    "    T_2 = ExternalQuantity(n=1)\n",
    "    pump = Pump()\n",
    "    valve = MixingValve(T_1=T_1, T_2=T_2)\n",
    "    tank = Tank(V=1.0, T_in=valve.T_out, Phi=pump.Phi)"
   ]
  },
  {
   "cell_type": "markdown",
   "metadata": {},
   "source": [
    "Finally, we define a controller callback, to set values for the\n",
    "manipulated variables. This function will be called at user defined\n",
    "times (see [below](#step-3-run-the-model)) and will receive the current values of the\n",
    "simulation at the specific times."
   ]
  },
  {
   "cell_type": "code",
   "execution_count": 6,
   "metadata": {
    "scrolled": true
   },
   "outputs": [],
   "source": [
    "from math import sin\n",
    "\n",
    "def ctrl(t: ExampleModel.t, T: ExampleModel.tank.T,\n",
    "          Phi: ExampleModel.pump.Phi[:],\n",
    "          position: ExampleModel.valve.position[:]):\n",
    "    Phi[:] = 0.5 if T < 10. else 1.0\n",
    "    position[:] = sin(t)"
   ]
  },
  {
   "cell_type": "markdown",
   "metadata": {},
   "source": [
    "Note the `[:]` in the arguments annotation (and in the code). If\n",
    "omitted, `ctrl` would receive copied float instances instead of views to\n",
    "the manipulated variables and nothing would be manipulated.\n",
    "\n",
    "## Step 3: Run the model\n",
    "\n",
    "To run, the model needs to know the time range of the simulation and\n",
    "the initial values for all state\n",
    "functions and manipulated variables, if present (it is assumed that new\n",
    "values for manipulated variables depend on old values).\n",
    "Moreover, if present, the external quantities and (the expressions thereof\n",
    "formed by computed quantities) form the inhomogeneous part of the\n",
    "ODE. Values for external quantities have to be provided in form of an\n",
    "interpolant (which the ODE solver can evaluate at arbitrary t values).\n",
    "Finally for the control callback, the simulation wants to know the\n",
    "times at which the control function should be called. This information\n",
    "is passed in form of a `sampler` function which takes the time range\n",
    "of the simulation as arguments and returns the times of the control\n",
    "calls.\n",
    "The family of functions `model.t_sampler(Delta_t)` are predefined\n",
    "`sampler` functions which generate a equidistant sequence of times\n",
    "separated by `Delta_t`, starting at `t[0]` (if `t` is the range of the\n",
    "simulation).\n",
    "In the example below, `t_sampler(1.)` is used, resulting in the\n",
    "control function being called every second."
   ]
  },
  {
   "cell_type": "code",
   "execution_count": 10,
   "metadata": {},
   "outputs": [
    {
     "data": {
      "image/png": "[encoded data removed]",
      "text/plain": [
       "<Figure size 432x288 with 1 Axes>"
      ]
     },
     "metadata": {
      "needs_background": "light"
     },
     "output_type": "display_data"
    }
   ],
   "source": [
    "import numpy\n",
    "x0 = {ExampleModel.tank.T: 20., ExampleModel.pump.Phi: 0., ExampleModel.valve.position: 0.}\n",
    "t = numpy.arange(60.)\n",
    "_T_2 = 8. + 6. / t[-1] * t\n",
    "timeseries = ExampleModel.run(x0, t, external_quantity_data={ExampleModel.t: t, ExampleModel.T_2: _T_2},\n",
    "                       f_ctrl=ctrl, t_ctrl_sampler=t_sampler(1.))\n",
    "\n",
    "import matplotlib.pyplot as plt\n",
    "plt.ion() # This is to show matplotlib inline in jupyter\n",
    "for caption, (t, y) in timeseries.items():\n",
    "    plt.plot(t, y, label=caption)\n",
    "plt.legend()\n",
    "plt.show()"
   ]
  },
  {
   "cell_type": "markdown",
   "metadata": {},
   "source": [
    "# Advanced possibilities\n",
    "\n",
    "## Multi dimensional quantities\n",
    "## Derivative objects defining the change of multiple quantities\n",
    "## Using an external controller"
   ]
  }
 ],
 "metadata": {
  "kernelspec": {
   "display_name": "Python 3",
   "language": "python",
   "name": "python3"
  },
  "language_info": {
   "codemirror_mode": {
    "name": "ipython",
    "version": 3
   },
   "file_extension": ".py",
   "mimetype": "text/x-python",
   "name": "python",
   "nbconvert_exporter": "python",
   "pygments_lexer": "ipython3",
   "version": "3.6.6"
  }
 },
 "nbformat": 4,
 "nbformat_minor": 2
}
